{
 "cells": [
  {
   "cell_type": "raw",
   "id": "c8b44919-88f4-4ae7-8bda-1d1988314bde",
   "metadata": {},
   "source": [
    "1.\tGiven an array, check if it contains any duplicates or not.\n",
    "arr = [1, 2, 4, 2, 5, 9]\n",
    "Output = True\n"
   ]
  },
  {
   "cell_type": "code",
   "execution_count": null,
   "id": "d37ca236-56ea-478a-a4bd-4ee76be5dfab",
   "metadata": {},
   "outputs": [
    {
     "data": {
      "text/plain": [
       "True"
      ]
     },
     "execution_count": 32,
     "metadata": {},
     "output_type": "execute_result"
    }
   ],
   "source": [
    "\n",
    "def check_duplicates(arr):\n",
    "    n = len(arr)\n",
    "    for x in range(n):\n",
    "        for y in range(n):\n",
    "            if x != y and arr[x] == arr[y]:\n",
    "                return True\n",
    "    return False\n",
    "                    \n",
    "                \n",
    "\n",
    "#driver code\n",
    "arr = [1, 2, 4, 2, 5, 9]\n",
    "check_duplicates(arr)\n"
   ]
  },
  {
   "cell_type": "raw",
   "id": "48b4c389-90f7-42a4-94fd-417c9ab2e95f",
   "metadata": {},
   "source": [
    "2.\tGiven an array and an integer k, rotate the array to the right by k steps.\n",
    "arr = [1, 2, 3, 4, 5, 6, 7]\n",
    "k = 3\n",
    "Output = [5, 6, 7, 1, 2, 3, 4]\n"
   ]
  },
  {
   "cell_type": "code",
   "execution_count": null,
   "id": "19cdcadb-54cf-4122-a1ed-136ff501b6af",
   "metadata": {},
   "outputs": [
    {
     "data": {
      "text/plain": [
       "[5, 6, 7, 1, 2, 3, 4]"
      ]
     },
     "execution_count": 72,
     "metadata": {},
     "output_type": "execute_result"
    }
   ],
   "source": [
    "\n",
    "def rotate_array(arr, k):\n",
    "    return arr[-k:] + arr[:-k]\n",
    "        \n",
    "\n",
    "#driver code\n",
    "arr = [1, 2, 3, 4, 5, 6, 7]\n",
    "k = 3\n",
    "rotate_array(arr,k)\n"
   ]
  },
  {
   "cell_type": "raw",
   "id": "6d3ec398-77c6-4b48-abcd-3f99aab24f28",
   "metadata": {},
   "source": [
    "3.\tReverse the given array in-place, means without using any extra data structure.\n",
    "arr = [2, 4, 5, 7, 9, 12]\n",
    "Output = [12, 9, 7, 5, 4, 2]\n"
   ]
  },
  {
   "cell_type": "code",
   "execution_count": null,
   "id": "61f13839-9bed-4c9c-9e0c-77bd05f97146",
   "metadata": {},
   "outputs": [
    {
     "data": {
      "text/plain": [
       "[12, 9, 7, 5, 4, 2]"
      ]
     },
     "execution_count": 88,
     "metadata": {},
     "output_type": "execute_result"
    }
   ],
   "source": [
    "def reverse_array(arr):\n",
    "    left = 0\n",
    "    right = len(arr)-1\n",
    "    \n",
    "    while left < right:\n",
    "        arr[left], arr[right] = arr[right], arr[left]\n",
    "        left += 1\n",
    "        right -= 1\n",
    "    return arr\n",
    "    \n",
    "#driver code\n",
    "\n",
    "arr = [2, 4, 5, 7, 9, 12]\n",
    "reverse_array(arr)"
   ]
  },
  {
   "cell_type": "raw",
   "id": "29428988-944b-464b-947b-184ab3fe1987",
   "metadata": {},
   "source": [
    "4.\tGiven an array of integers, find the maximum element in an array\n",
    "arr = [10, 5, 20, 8, 15]\n",
    "Output = 20\n"
   ]
  },
  {
   "cell_type": "code",
   "execution_count": null,
   "id": "23ae686d-ecd3-4fb5-9e9c-ac9710b3dacb",
   "metadata": {},
   "outputs": [
    {
     "data": {
      "text/plain": [
       "20"
      ]
     },
     "execution_count": 92,
     "metadata": {},
     "output_type": "execute_result"
    }
   ],
   "source": [
    "def find_max(arr):\n",
    "    n = arr[0]\n",
    "    for i in arr:\n",
    "        if i > n:\n",
    "            n = i\n",
    "    return n\n",
    "\n",
    "#driver code \n",
    "arr = [10, 5, 20, 8find_max(arr), 15]\n"
   ]
  },
  {
   "cell_type": "raw",
   "id": "9b9b536d-029b-4450-8f97-832454c35765",
   "metadata": {},
   "source": [
    "5.\tGiven a sorted array, remove the duplicate element without using any extra data structure.\n",
    "arr = [1, 1, 2, 2, 2, 3, 3, 4, 4, 4, 5, 5]\n",
    "Output = [1, 2, 3, 4, 5]\n"
   ]
  },
  {
   "cell_type": "code",
   "execution_count": 138,
   "id": "b7a6f76a-7015-4199-ad94-d704df453182",
   "metadata": {},
   "outputs": [
    {
     "data": {
      "text/plain": [
       "[1, 1, 2, 2, 2, 3, 3, 4, 4, 4, 5, 5, 1, 2, 3, 4, 5]"
      ]
     },
     "execution_count": 138,
     "metadata": {},
     "output_type": "execute_result"
    }
   ],
   "source": [
    "\n",
    "def remove_duplicate(arr):\n",
    "    n = len(arr)\n",
    "    for i in range(n):\n",
    "        if arr[i] not in arr[:i]:\n",
    "            arr.append(arr[i])\n",
    "    return arr[]\n",
    "\n",
    "#driver code\n",
    "arr = [1, 1, 2, 2, 2, 3, 3, 4, 4, 4, 5, 5]\n",
    "remove_duplicate(arr)"
   ]
  },
  {
   "cell_type": "code",
   "execution_count": null,
   "id": "fc445f55-9bf2-42f5-9fcf-b041a292df84",
   "metadata": {},
   "outputs": [],
   "source": []
  },
  {
   "cell_type": "code",
   "execution_count": null,
   "id": "79d53231-b4f9-4a0c-b6af-e9fc3e53d239",
   "metadata": {},
   "outputs": [],
   "source": []
  }
 ],
 "metadata": {
  "kernelspec": {
   "display_name": "Python 3 (ipykernel)",
   "language": "python",
   "name": "python3"
  },
  "language_info": {
   "codemirror_mode": {
    "name": "ipython",
    "version": 3
   },
   "file_extension": ".py",
   "mimetype": "text/x-python",
   "name": "python",
   "nbconvert_exporter": "python",
   "pygments_lexer": "ipython3",
   "version": "3.10.8"
  }
 },
 "nbformat": 4,
 "nbformat_minor": 5
}
